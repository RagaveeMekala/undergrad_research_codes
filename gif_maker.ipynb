{
 "cells": [
  {
   "cell_type": "code",
   "execution_count": 1,
   "id": "07bfd300",
   "metadata": {},
   "outputs": [],
   "source": [
    "import imageio\n",
    "from PIL import Image\n",
    "from PIL import ImageDraw\n",
    "from PIL import ImageFont\n",
    "import numpy as np\n",
    "\n",
    "\n",
    "img=Image.open('Capture.png')\n",
    "I=ImageDraw.Draw(img)\n",
    "font = ImageFont.truetype('arial.ttf',15)\n",
    "I.text((790,36),'Time Lapse : 0 Gyr',fill=(255,255,255),font=font)\n",
    "img.save('Capture.png')\n",
    "\n",
    "img=Image.open('Capture_1.png')\n",
    "I=ImageDraw.Draw(img)\n",
    "font = ImageFont.truetype('arial.ttf',15)\n",
    "I.text((790,36),'Time Lapse : 0.01 Gyr',fill=(255,255,255),font=font)\n",
    "img.save('Capture_1.png')\n",
    "\n",
    "filenames=['Capture_2.png','Capture_3.png','Capture_4.png','Capture_5.png','Capture_6.png','Capture_7.png','Capture_8.png','Capture_9.png','Capture_10.png','Capture_11.png','Capture_12.png','Capture_13.png','Capture_14.png','Capture_15.png','Capture_16.png','Capture_17.png','Capture_18.png','Capture_19.png','Capture_20.png','Capture_21.png','Capture_22.png','Capture_23.png','Capture_24.png','Capture_25.png','Capture_26.png','Capture_27.png','Capture_28.png','Capture_29.png','Capture_30.png','Capture_31.png','Capture_32.png','Capture_33.png','Capture_34.png','Capture_35.png','Capture_36.png','Capture_37.png','Capture_38.png','Capture_39.png','Capture_40.png','Capture_41.png','Capture_42.png','Capture_43.png','Capture_44.png','Capture_45.png','Capture_46.png','Capture_47.png','Capture_48.png','Capture_49.png','Capture_50.png','Capture_51.png']\n",
    "year=0.2\n",
    "for filename in filenames:\n",
    "    index=filenames.index(filename)\n",
    "    img=Image.open(filename)\n",
    "    I=ImageDraw.Draw(img)\n",
    "    font = ImageFont.truetype('arial.ttf',15)\n",
    "    I.text((790,36),'Time Lapse : {0} Gyr'.format(year),fill=(255,255,255),font=font)\n",
    "    img.save(filename)\n",
    "    year=np.round(year+0.2,2)\n",
    "    \n",
    "\n",
    "\n",
    "with imageio.get_writer('video.gif',mode='I') as writer:\n",
    "    \n",
    "    image=imageio.imread('Capture.png')\n",
    "    writer.append_data(image)\n",
    "\n",
    "    image=imageio.imread('Capture_1.png')\n",
    "    writer.append_data(image)\n",
    "    for filename in filenames:\n",
    "        image=imageio.imread(filename)\n",
    "        writer.append_data(image)\n",
    "        "
   ]
  },
  {
   "cell_type": "code",
   "execution_count": null,
   "id": "c9350529",
   "metadata": {},
   "outputs": [],
   "source": []
  }
 ],
 "metadata": {
  "kernelspec": {
   "display_name": "Python 3",
   "language": "python",
   "name": "python3"
  },
  "language_info": {
   "codemirror_mode": {
    "name": "ipython",
    "version": 3
   },
   "file_extension": ".py",
   "mimetype": "text/x-python",
   "name": "python",
   "nbconvert_exporter": "python",
   "pygments_lexer": "ipython3",
   "version": "3.8.8"
  }
 },
 "nbformat": 4,
 "nbformat_minor": 5
}
